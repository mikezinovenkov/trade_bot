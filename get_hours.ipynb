{
 "cells": [
  {
   "cell_type": "code",
   "execution_count": 1,
   "id": "57b8ebc6",
   "metadata": {},
   "outputs": [],
   "source": [
    "import logging\n",
    "import json\n",
    "import os\n",
    "import datetime\n",
    "from binance.spot import Spot as Client\n",
    "from binance.lib.utils import config_logging\n",
    "import pandas as pd\n",
    "import numpy as np\n",
    "from ipynb.fs.defs.get_crypto_data import get_last_candles_data, convert_open_time"
   ]
  },
  {
   "cell_type": "code",
   "execution_count": 3,
   "id": "805a28ba",
   "metadata": {},
   "outputs": [],
   "source": [
    "def get_last_hours(symbol, time_interval, quantity, spot_client):\n",
    "    candles = get_last_candles_data(spot_client, quantity=quantity, symbol=symbol+'USDT', time_interval=time_interval)\n",
    "    candles = convert_open_time(candles)\n",
    "    \n",
    "    rows_number = candles.shape[0]\n",
    "    col_number = candles.shape[1]\n",
    "\n",
    "    col_name = candles.columns\n",
    "\n",
    "    combine_column_names = []\n",
    "    for i in range(quantity):\n",
    "        for name in col_name:\n",
    "            combine_column_names.append(name + '_' + str(quantity-i))\n",
    "\n",
    "    np_array = candles.to_numpy().reshape(1,quantity * col_number)\n",
    "    final_df = pd.DataFrame(np_array, columns = combine_column_names)\n",
    "    return final_df"
   ]
  }
 ],
 "metadata": {
  "kernelspec": {
   "display_name": "Python 3 (ipykernel)",
   "language": "python",
   "name": "python3"
  },
  "language_info": {
   "codemirror_mode": {
    "name": "ipython",
    "version": 3
   },
   "file_extension": ".py",
   "mimetype": "text/x-python",
   "name": "python",
   "nbconvert_exporter": "python",
   "pygments_lexer": "ipython3",
   "version": "3.9.13"
  }
 },
 "nbformat": 4,
 "nbformat_minor": 5
}
